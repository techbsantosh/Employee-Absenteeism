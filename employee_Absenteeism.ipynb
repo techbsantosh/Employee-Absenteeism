# IMPORTING ALL THE LIBRARY
import os
import random
import pandas as pd
import numpy as np
import matplotlib.pyplot as plt
import seaborn as sns
from sklearn.metrics import mean_absolute_error
from sklearn.metrics import mean_squared_error
from sklearn.metrics import r2_score
from fancyimpute import KNN, NuclearNormMinimization, SoftImpute, BiScaler
